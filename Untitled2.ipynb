{
 "cells": [
  {
   "cell_type": "code",
   "execution_count": 1,
   "id": "d7139e7f",
   "metadata": {},
   "outputs": [],
   "source": [
    "import pandas as pd\n",
    "import networkx as nx\n",
    "import numpy as np\n",
    "from geopy.distance import geodesic\n",
    "import matplotlib.pyplot as plt"
   ]
  },
  {
   "cell_type": "markdown",
   "id": "155e6a56",
   "metadata": {},
   "source": [
    "https://www.listendata.com/2020/11/zip-code-to-latitude-and-longitude.html"
   ]
  },
  {
   "cell_type": "markdown",
   "id": "683a4670",
   "metadata": {},
   "source": []
  },
  {
   "cell_type": "code",
   "execution_count": 2,
   "id": "1df546a4",
   "metadata": {},
   "outputs": [],
   "source": [
    "data = pd.read_csv('lat_long.csv')\n"
   ]
  },
  {
   "cell_type": "code",
   "execution_count": 3,
   "id": "98b88af8",
   "metadata": {},
   "outputs": [
    {
     "data": {
      "text/html": [
       "<div>\n",
       "<style scoped>\n",
       "    .dataframe tbody tr th:only-of-type {\n",
       "        vertical-align: middle;\n",
       "    }\n",
       "\n",
       "    .dataframe tbody tr th {\n",
       "        vertical-align: top;\n",
       "    }\n",
       "\n",
       "    .dataframe thead th {\n",
       "        text-align: right;\n",
       "    }\n",
       "</style>\n",
       "<table border=\"1\" class=\"dataframe\">\n",
       "  <thead>\n",
       "    <tr style=\"text-align: right;\">\n",
       "      <th></th>\n",
       "      <th>Food Bank</th>\n",
       "      <th>index</th>\n",
       "      <th>Total Population</th>\n",
       "      <th>Revised Projections March 2021 Food Insecurity%</th>\n",
       "      <th>Revised Projections March 2021 Food Insecurity#</th>\n",
       "      <th>address_1</th>\n",
       "      <th>postal code</th>\n",
       "      <th>state_y</th>\n",
       "      <th>statecode</th>\n",
       "      <th>latitude</th>\n",
       "      <th>longitude</th>\n",
       "    </tr>\n",
       "  </thead>\n",
       "  <tbody>\n",
       "    <tr>\n",
       "      <th>0</th>\n",
       "      <td>Food Bank of Alaska, Inc.</td>\n",
       "      <td>12</td>\n",
       "      <td>737068.0</td>\n",
       "      <td>0.129</td>\n",
       "      <td>95420.0</td>\n",
       "      <td>2192 Viking Drive</td>\n",
       "      <td>99501</td>\n",
       "      <td>Alaska</td>\n",
       "      <td>AK</td>\n",
       "      <td>61.2116</td>\n",
       "      <td>-149.8761</td>\n",
       "    </tr>\n",
       "    <tr>\n",
       "      <th>1</th>\n",
       "      <td>Community Food Bank of Central Alabama</td>\n",
       "      <td>621</td>\n",
       "      <td>1458585.0</td>\n",
       "      <td>0.157</td>\n",
       "      <td>229190.0</td>\n",
       "      <td>107 Walter Davis Drive</td>\n",
       "      <td>35209</td>\n",
       "      <td>Alabama</td>\n",
       "      <td>AL</td>\n",
       "      <td>33.4653</td>\n",
       "      <td>-86.8082</td>\n",
       "    </tr>\n",
       "    <tr>\n",
       "      <th>2</th>\n",
       "      <td>Food Bank of North Alabama</td>\n",
       "      <td>749</td>\n",
       "      <td>1089725.0</td>\n",
       "      <td>0.157</td>\n",
       "      <td>171440.0</td>\n",
       "      <td>2000 B. Vernon Ave.|P.O. Box 18607</td>\n",
       "      <td>35805</td>\n",
       "      <td>Alabama</td>\n",
       "      <td>AL</td>\n",
       "      <td>34.7059</td>\n",
       "      <td>-86.6165</td>\n",
       "    </tr>\n",
       "    <tr>\n",
       "      <th>3</th>\n",
       "      <td>Feeding the Gulf Coast</td>\n",
       "      <td>811</td>\n",
       "      <td>2292020.0</td>\n",
       "      <td>0.164</td>\n",
       "      <td>376740.0</td>\n",
       "      <td>5248 Mobile South Street</td>\n",
       "      <td>36582</td>\n",
       "      <td>Alabama</td>\n",
       "      <td>AL</td>\n",
       "      <td>30.5444</td>\n",
       "      <td>-88.1807</td>\n",
       "    </tr>\n",
       "    <tr>\n",
       "      <th>4</th>\n",
       "      <td>Montgomery Area Food Bank, Inc.</td>\n",
       "      <td>878</td>\n",
       "      <td>1481529.0</td>\n",
       "      <td>0.172</td>\n",
       "      <td>254180.0</td>\n",
       "      <td>521 Trade Center Street</td>\n",
       "      <td>36108</td>\n",
       "      <td>Alabama</td>\n",
       "      <td>AL</td>\n",
       "      <td>32.3417</td>\n",
       "      <td>-86.3529</td>\n",
       "    </tr>\n",
       "  </tbody>\n",
       "</table>\n",
       "</div>"
      ],
      "text/plain": [
       "                                Food Bank  index  Total Population  \\\n",
       "0               Food Bank of Alaska, Inc.     12          737068.0   \n",
       "1  Community Food Bank of Central Alabama    621         1458585.0   \n",
       "2              Food Bank of North Alabama    749         1089725.0   \n",
       "3                  Feeding the Gulf Coast    811         2292020.0   \n",
       "4         Montgomery Area Food Bank, Inc.    878         1481529.0   \n",
       "\n",
       "   Revised Projections March 2021 Food Insecurity%  \\\n",
       "0                                            0.129   \n",
       "1                                            0.157   \n",
       "2                                            0.157   \n",
       "3                                            0.164   \n",
       "4                                            0.172   \n",
       "\n",
       "   Revised Projections March 2021 Food Insecurity#  \\\n",
       "0                                          95420.0   \n",
       "1                                         229190.0   \n",
       "2                                         171440.0   \n",
       "3                                         376740.0   \n",
       "4                                         254180.0   \n",
       "\n",
       "                            address_1  postal code  state_y statecode  \\\n",
       "0                   2192 Viking Drive        99501   Alaska        AK   \n",
       "1              107 Walter Davis Drive        35209  Alabama        AL   \n",
       "2  2000 B. Vernon Ave.|P.O. Box 18607        35805  Alabama        AL   \n",
       "3            5248 Mobile South Street        36582  Alabama        AL   \n",
       "4             521 Trade Center Street        36108  Alabama        AL   \n",
       "\n",
       "   latitude  longitude  \n",
       "0   61.2116  -149.8761  \n",
       "1   33.4653   -86.8082  \n",
       "2   34.7059   -86.6165  \n",
       "3   30.5444   -88.1807  \n",
       "4   32.3417   -86.3529  "
      ]
     },
     "execution_count": 3,
     "metadata": {},
     "output_type": "execute_result"
    }
   ],
   "source": [
    "data.dtypes\n",
    "data['Food Bank']=data['Food Bank'].astype(str)\n",
    "data.head()"
   ]
  },
  {
   "cell_type": "code",
   "execution_count": 4,
   "id": "255c27e5",
   "metadata": {},
   "outputs": [
    {
     "data": {
      "text/plain": [
       "'Graph with 197 nodes and 0 edges'"
      ]
     },
     "execution_count": 4,
     "metadata": {},
     "output_type": "execute_result"
    }
   ],
   "source": [
    "G = nx.Graph()\n",
    "node = data['Food Bank']\n",
    "lat = data['latitude']\n",
    "long = data['longitude']\n",
    "\n",
    "G.add_nodes_from(node,lat=lat,long=long)\n",
    "#G.add_edge(node,node)\n",
    "#nx.draw(G,nx.get_node_attributes(G,'pos'))\n",
    "#nx.number_of_nodes(G)\n",
    "nx.info(G)"
   ]
  },
  {
   "cell_type": "code",
   "execution_count": 5,
   "id": "7bdb4b6d",
   "metadata": {
    "scrolled": true
   },
   "outputs": [
    {
     "data": {
      "text/html": [
       "<div>\n",
       "<style scoped>\n",
       "    .dataframe tbody tr th:only-of-type {\n",
       "        vertical-align: middle;\n",
       "    }\n",
       "\n",
       "    .dataframe tbody tr th {\n",
       "        vertical-align: top;\n",
       "    }\n",
       "\n",
       "    .dataframe thead th {\n",
       "        text-align: right;\n",
       "    }\n",
       "</style>\n",
       "<table border=\"1\" class=\"dataframe\">\n",
       "  <thead>\n",
       "    <tr style=\"text-align: right;\">\n",
       "      <th></th>\n",
       "      <th>Food Bank</th>\n",
       "      <th>index</th>\n",
       "      <th>Total Population</th>\n",
       "      <th>Revised Projections March 2021 Food Insecurity%</th>\n",
       "      <th>Revised Projections March 2021 Food Insecurity#</th>\n",
       "      <th>address_1</th>\n",
       "      <th>postal code</th>\n",
       "      <th>state_y</th>\n",
       "      <th>statecode</th>\n",
       "      <th>latitude</th>\n",
       "      <th>longitude</th>\n",
       "    </tr>\n",
       "  </thead>\n",
       "  <tbody>\n",
       "    <tr>\n",
       "      <th>0</th>\n",
       "      <td>Food Bank of Alaska, Inc.</td>\n",
       "      <td>12</td>\n",
       "      <td>737068.0</td>\n",
       "      <td>0.129</td>\n",
       "      <td>95420.0</td>\n",
       "      <td>2192 Viking Drive</td>\n",
       "      <td>99501</td>\n",
       "      <td>Alaska</td>\n",
       "      <td>AK</td>\n",
       "      <td>61.2116</td>\n",
       "      <td>-149.8761</td>\n",
       "    </tr>\n",
       "    <tr>\n",
       "      <th>1</th>\n",
       "      <td>Community Food Bank of Central Alabama</td>\n",
       "      <td>621</td>\n",
       "      <td>1458585.0</td>\n",
       "      <td>0.157</td>\n",
       "      <td>229190.0</td>\n",
       "      <td>107 Walter Davis Drive</td>\n",
       "      <td>35209</td>\n",
       "      <td>Alabama</td>\n",
       "      <td>AL</td>\n",
       "      <td>33.4653</td>\n",
       "      <td>-86.8082</td>\n",
       "    </tr>\n",
       "    <tr>\n",
       "      <th>2</th>\n",
       "      <td>Food Bank of North Alabama</td>\n",
       "      <td>749</td>\n",
       "      <td>1089725.0</td>\n",
       "      <td>0.157</td>\n",
       "      <td>171440.0</td>\n",
       "      <td>2000 B. Vernon Ave.|P.O. Box 18607</td>\n",
       "      <td>35805</td>\n",
       "      <td>Alabama</td>\n",
       "      <td>AL</td>\n",
       "      <td>34.7059</td>\n",
       "      <td>-86.6165</td>\n",
       "    </tr>\n",
       "    <tr>\n",
       "      <th>3</th>\n",
       "      <td>Feeding the Gulf Coast</td>\n",
       "      <td>811</td>\n",
       "      <td>2292020.0</td>\n",
       "      <td>0.164</td>\n",
       "      <td>376740.0</td>\n",
       "      <td>5248 Mobile South Street</td>\n",
       "      <td>36582</td>\n",
       "      <td>Alabama</td>\n",
       "      <td>AL</td>\n",
       "      <td>30.5444</td>\n",
       "      <td>-88.1807</td>\n",
       "    </tr>\n",
       "    <tr>\n",
       "      <th>4</th>\n",
       "      <td>Montgomery Area Food Bank, Inc.</td>\n",
       "      <td>878</td>\n",
       "      <td>1481529.0</td>\n",
       "      <td>0.172</td>\n",
       "      <td>254180.0</td>\n",
       "      <td>521 Trade Center Street</td>\n",
       "      <td>36108</td>\n",
       "      <td>Alabama</td>\n",
       "      <td>AL</td>\n",
       "      <td>32.3417</td>\n",
       "      <td>-86.3529</td>\n",
       "    </tr>\n",
       "  </tbody>\n",
       "</table>\n",
       "</div>"
      ],
      "text/plain": [
       "                                Food Bank  index  Total Population  \\\n",
       "0               Food Bank of Alaska, Inc.     12          737068.0   \n",
       "1  Community Food Bank of Central Alabama    621         1458585.0   \n",
       "2              Food Bank of North Alabama    749         1089725.0   \n",
       "3                  Feeding the Gulf Coast    811         2292020.0   \n",
       "4         Montgomery Area Food Bank, Inc.    878         1481529.0   \n",
       "\n",
       "   Revised Projections March 2021 Food Insecurity%  \\\n",
       "0                                            0.129   \n",
       "1                                            0.157   \n",
       "2                                            0.157   \n",
       "3                                            0.164   \n",
       "4                                            0.172   \n",
       "\n",
       "   Revised Projections March 2021 Food Insecurity#  \\\n",
       "0                                          95420.0   \n",
       "1                                         229190.0   \n",
       "2                                         171440.0   \n",
       "3                                         376740.0   \n",
       "4                                         254180.0   \n",
       "\n",
       "                            address_1  postal code  state_y statecode  \\\n",
       "0                   2192 Viking Drive        99501   Alaska        AK   \n",
       "1              107 Walter Davis Drive        35209  Alabama        AL   \n",
       "2  2000 B. Vernon Ave.|P.O. Box 18607        35805  Alabama        AL   \n",
       "3            5248 Mobile South Street        36582  Alabama        AL   \n",
       "4             521 Trade Center Street        36108  Alabama        AL   \n",
       "\n",
       "   latitude  longitude  \n",
       "0   61.2116  -149.8761  \n",
       "1   33.4653   -86.8082  \n",
       "2   34.7059   -86.6165  \n",
       "3   30.5444   -88.1807  \n",
       "4   32.3417   -86.3529  "
      ]
     },
     "execution_count": 5,
     "metadata": {},
     "output_type": "execute_result"
    }
   ],
   "source": [
    "data.head()"
   ]
  },
  {
   "cell_type": "code",
   "execution_count": 6,
   "id": "c2261c53",
   "metadata": {},
   "outputs": [],
   "source": [
    "lat = data['latitude']"
   ]
  },
  {
   "cell_type": "code",
   "execution_count": 7,
   "id": "402057e0",
   "metadata": {},
   "outputs": [],
   "source": [
    "lon = data['longitude']"
   ]
  },
  {
   "cell_type": "code",
   "execution_count": 8,
   "id": "a2d2f254",
   "metadata": {},
   "outputs": [],
   "source": [
    "lat = lat.to_list()\n",
    "lon = lon.to_list()"
   ]
  },
  {
   "cell_type": "code",
   "execution_count": 9,
   "id": "24121134",
   "metadata": {},
   "outputs": [],
   "source": [
    "dis = []\n",
    "for i in range(len(lon)-1):\n",
    "    dis.append(geodesic([lat[i],lon[i]],[lat[i+1],lon[i+1]]).km)\n",
    "    "
   ]
  },
  {
   "cell_type": "code",
   "execution_count": 10,
   "id": "8a19a46a",
   "metadata": {},
   "outputs": [],
   "source": [
    "# print(dis)"
   ]
  },
  {
   "cell_type": "code",
   "execution_count": 11,
   "id": "beeef965",
   "metadata": {},
   "outputs": [
    {
     "name": "stdout",
     "output_type": "stream",
     "text": [
      "5574.5750982119525\n"
     ]
    }
   ],
   "source": [
    "def calc_distance(data,a,b):\n",
    "    lon = data['longitude']\n",
    "    lat = data['latitude']\n",
    "    lat = lat.to_list()\n",
    "    lon = lon.to_list()\n",
    "    food_bank = data['Food Bank']\n",
    "    food_bank = food_bank.to_list()\n",
    "    loc1 = food_bank.index(a)\n",
    "    loc2 = food_bank.index(b)\n",
    "    \n",
    "    return (geodesic([lat[loc1],lon[loc1]],[lat[loc2],lon[loc2]]).km)\n",
    "    \n",
    "\n",
    "\n",
    "\n",
    "distance = calc_distance(data,'Feeding the Gulf Coast','Food Bank of Alaska, Inc.')\n",
    "print(distance)\n",
    "\n",
    "\n"
   ]
  },
  {
   "cell_type": "code",
   "execution_count": 12,
   "id": "80085a70",
   "metadata": {},
   "outputs": [
    {
     "ename": "NameError",
     "evalue": "name 'a' is not defined",
     "output_type": "error",
     "traceback": [
      "\u001b[1;31m---------------------------------------------------------------------------\u001b[0m",
      "\u001b[1;31mNameError\u001b[0m                                 Traceback (most recent call last)",
      "\u001b[1;32m<ipython-input-12-01c8ee301185>\u001b[0m in \u001b[0;36m<module>\u001b[1;34m\u001b[0m\n\u001b[1;32m----> 1\u001b[1;33m \u001b[0mdata\u001b[0m\u001b[1;33m[\u001b[0m\u001b[1;34m\"distance\"\u001b[0m\u001b[1;33m]\u001b[0m \u001b[1;33m=\u001b[0m \u001b[0mdata\u001b[0m\u001b[1;33m.\u001b[0m\u001b[0mapply\u001b[0m\u001b[1;33m(\u001b[0m\u001b[0mcalc_distance\u001b[0m\u001b[1;33m(\u001b[0m\u001b[0ma\u001b[0m\u001b[1;33m,\u001b[0m\u001b[0mb\u001b[0m\u001b[1;33m)\u001b[0m\u001b[1;33m)\u001b[0m\u001b[1;33m\u001b[0m\u001b[1;33m\u001b[0m\u001b[0m\n\u001b[0m\u001b[0;32m      2\u001b[0m \u001b[0mdata\u001b[0m\u001b[1;33m.\u001b[0m\u001b[0mhead\u001b[0m\u001b[1;33m(\u001b[0m\u001b[1;33m)\u001b[0m\u001b[1;33m\u001b[0m\u001b[1;33m\u001b[0m\u001b[0m\n",
      "\u001b[1;31mNameError\u001b[0m: name 'a' is not defined"
     ]
    }
   ],
   "source": [
    "data[\"distance\"] = data.apply(calc_distance(a,b))\n",
    "data.head()"
   ]
  },
  {
   "cell_type": "code",
   "execution_count": null,
   "id": "4ce1b8fa",
   "metadata": {},
   "outputs": [],
   "source": [
    "G = nx.Graph()\n",
    "# node = data['Food Bank']\n",
    "# lat = data['latitude']\n",
    "# long = data['longitude']\n",
    "\n",
    "# G.add_nodes_from(node)\n",
    "# #G.add_edge(node,node)\n",
    "# #nx.draw(G,nx.get_node_attributes(G,'pos'))\n",
    "# #nx.number_of_nodes(G)\n",
    "# nx.info(G)\n"
   ]
  },
  {
   "cell_type": "code",
   "execution_count": null,
   "id": "abe5fba0",
   "metadata": {},
   "outputs": [],
   "source": [
    "for i, attr in data.iterrows():\n",
    "    for i in attr:\n",
    "        print(i)"
   ]
  },
  {
   "cell_type": "code",
   "execution_count": null,
   "id": "49cfd632",
   "metadata": {},
   "outputs": [],
   "source": [
    "for i, attr in data.iterrows():\n",
    "    G.add_edge(attr[0],attr[0], attr_dict=attr[2:].to_dict())\n",
    "   \n",
    "        "
   ]
  },
  {
   "cell_type": "code",
   "execution_count": null,
   "id": "8f5e6117",
   "metadata": {},
   "outputs": [],
   "source": [
    "print(attr)"
   ]
  },
  {
   "cell_type": "code",
   "execution_count": null,
   "id": "5f45267a",
   "metadata": {},
   "outputs": [],
   "source": [
    "print(attr[-2:].to_dict())"
   ]
  },
  {
   "cell_type": "code",
   "execution_count": null,
   "id": "800d705a",
   "metadata": {},
   "outputs": [],
   "source": [
    "# list(G.edges(data=True))[0:5]\n"
   ]
  },
  {
   "cell_type": "code",
   "execution_count": null,
   "id": "a2fe1e8b",
   "metadata": {},
   "outputs": [],
   "source": [
    "# list(G.nodes(data=True))[0:5]\n"
   ]
  },
  {
   "cell_type": "code",
   "execution_count": null,
   "id": "f97725ce",
   "metadata": {},
   "outputs": [],
   "source": [
    "nx.info(G)"
   ]
  },
  {
   "cell_type": "code",
   "execution_count": null,
   "id": "509c5139",
   "metadata": {},
   "outputs": [],
   "source": []
  },
  {
   "cell_type": "code",
   "execution_count": null,
   "id": "b6b4588a",
   "metadata": {},
   "outputs": [],
   "source": [
    "def add_node(data,a,b):\n",
    "    \n",
    "\n",
    "    food_bank = data['Food Bank']\n",
    "    food_bank = food_bank.to_list()\n",
    "    \n",
    "\n",
    "    return (G.add_nodes_from(food_bank))"
   ]
  },
  {
   "cell_type": "code",
   "execution_count": null,
   "id": "f23e4f4f",
   "metadata": {},
   "outputs": [],
   "source": [
    "node = add_node(data,'Feeding the Gulf Coast','Food Bank of Alaska, Inc.')\n",
    "print(nx.info(G))"
   ]
  },
  {
   "cell_type": "code",
   "execution_count": null,
   "id": "8a52d8a3",
   "metadata": {},
   "outputs": [],
   "source": [
    "food_bank = data['Food Bank']\n",
    "food_bank = food_bank.to_list()\n",
    "# fb1 = food_bank.index(1)\n",
    "# fb2 = food_bank.index(2)\n",
    "print(food_bank)\n"
   ]
  },
  {
   "cell_type": "code",
   "execution_count": null,
   "id": "f48e9c36",
   "metadata": {},
   "outputs": [],
   "source": [
    "fblist = []\n",
    "for i in food_bank:\n",
    "    \n",
    "    fblist.append(i)\n",
    "print(fblist[1])"
   ]
  },
  {
   "cell_type": "code",
   "execution_count": null,
   "id": "71edb2ca",
   "metadata": {},
   "outputs": [],
   "source": [
    "for i in fblist:\n",
    "    G.add_node(fblist[i],fblist[i]+1)"
   ]
  },
  {
   "cell_type": "code",
   "execution_count": null,
   "id": "2d022f1e",
   "metadata": {},
   "outputs": [],
   "source": []
  }
 ],
 "metadata": {
  "kernelspec": {
   "display_name": "Python 3",
   "language": "python",
   "name": "python3"
  },
  "language_info": {
   "codemirror_mode": {
    "name": "ipython",
    "version": 3
   },
   "file_extension": ".py",
   "mimetype": "text/x-python",
   "name": "python",
   "nbconvert_exporter": "python",
   "pygments_lexer": "ipython3",
   "version": "3.8.8"
  }
 },
 "nbformat": 4,
 "nbformat_minor": 5
}
