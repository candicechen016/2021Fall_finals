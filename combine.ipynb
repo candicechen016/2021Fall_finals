{
 "cells": [
  {
   "cell_type": "code",
   "execution_count": 1,
   "id": "025d2ca4",
   "metadata": {},
   "outputs": [],
   "source": [
    "import pandas as pd"
   ]
  },
  {
   "cell_type": "code",
   "execution_count": 2,
   "id": "53205a23",
   "metadata": {},
   "outputs": [],
   "source": [
    "data = pd.read_csv('foodbank_with_address.csv')\n",
    "zip = pd.read_csv('zip.csv')"
   ]
  },
  {
   "cell_type": "code",
   "execution_count": 3,
   "id": "8b46cda6",
   "metadata": {},
   "outputs": [],
   "source": [
    "combine = pd.merge(data,zip,how='right',left_on='zip_code',right_on='postal code')"
   ]
  },
  {
   "cell_type": "code",
   "execution_count": 4,
   "id": "52c948d2",
   "metadata": {
    "scrolled": true
   },
   "outputs": [],
   "source": [
    "df = combine.dropna()"
   ]
  },
  {
   "cell_type": "code",
   "execution_count": 5,
   "id": "18defc35",
   "metadata": {
    "scrolled": true
   },
   "outputs": [],
   "source": [
    "req_cols = df[['Food Bank','address_1','postal code','city','state_y','statecode','latitude','longitude']]"
   ]
  },
  {
   "cell_type": "code",
   "execution_count": 6,
   "id": "f88118e2",
   "metadata": {},
   "outputs": [],
   "source": [
    "zip_data=req_cols.reset_index()"
   ]
  },
  {
   "cell_type": "code",
   "execution_count": 7,
   "id": "f840db86",
   "metadata": {},
   "outputs": [],
   "source": [
    "zip_data.to_csv('lat_long.csv',index=False)"
   ]
  }
 ],
 "metadata": {
  "kernelspec": {
   "display_name": "Python 3",
   "language": "python",
   "name": "python3"
  },
  "language_info": {
   "codemirror_mode": {
    "name": "ipython",
    "version": 3
   },
   "file_extension": ".py",
   "mimetype": "text/x-python",
   "name": "python",
   "nbconvert_exporter": "python",
   "pygments_lexer": "ipython3",
   "version": "3.8.8"
  }
 },
 "nbformat": 4,
 "nbformat_minor": 5
}
